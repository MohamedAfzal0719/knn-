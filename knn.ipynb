{
  "nbformat": 4,
  "nbformat_minor": 0,
  "metadata": {
    "colab": {
      "provenance": [],
      "authorship_tag": "ABX9TyO6ZoyeAe0RdlVBGmbIMUg+",
      "include_colab_link": true
    },
    "kernelspec": {
      "name": "python3",
      "display_name": "Python 3"
    },
    "language_info": {
      "name": "python"
    }
  },
  "cells": [
    {
      "cell_type": "markdown",
      "metadata": {
        "id": "view-in-github",
        "colab_type": "text"
      },
      "source": [
        "<a href=\"https://colab.research.google.com/github/MohamedAfzal0719/knn-/blob/main/knn.ipynb\" target=\"_parent\"><img src=\"https://colab.research.google.com/assets/colab-badge.svg\" alt=\"Open In Colab\"/></a>"
      ]
    },
    {
      "cell_type": "code",
      "execution_count": null,
      "metadata": {
        "id": "ZsUkY2bYfjmA"
      },
      "outputs": [],
      "source": [
        "import pandas as pd\n",
        "import numpy as np\n",
        "import seaborn as sns\n",
        "import matplotlib.pyplot as plt\n",
        "from sklearn.datasets import load_iris\n",
        "from sklearn.model_selection import train_test_split\n",
        "from sklearn.neighbors import KNeighborsClassifier\n",
        "from sklearn.metrics import accuracy_score, confusion_matrix, ConfusionMatrixDisplay\n"
      ]
    },
    {
      "cell_type": "code",
      "source": [
        "iris = load_iris()\n",
        "df = pd.DataFrame(data=iris.data, columns=iris.feature_names)\n",
        "df['species'] = iris.target\n",
        "df['species_name'] = df['species'].apply(lambda x: iris.target_names[x])\n",
        "df.head()\n"
      ],
      "metadata": {
        "id": "dvxOMFzafvVZ"
      },
      "execution_count": null,
      "outputs": []
    },
    {
      "cell_type": "code",
      "source": [
        "sns.pairplot(df, hue='species_name', corner=True)\n",
        "plt.show()\n"
      ],
      "metadata": {
        "id": "uz5OYhnGfxlx"
      },
      "execution_count": null,
      "outputs": []
    },
    {
      "cell_type": "code",
      "source": [
        "X = df[iris.feature_names]\n",
        "y = df['species']\n",
        "X_train, X_test, y_train, y_test = train_test_split(X, y, test_size=0.2, random_state=42)\n"
      ],
      "metadata": {
        "id": "nMOPnPh8gTmt"
      },
      "execution_count": null,
      "outputs": []
    },
    {
      "cell_type": "code",
      "source": [
        "knn = KNeighborsClassifier(n_neighbors=3)\n",
        "knn.fit(X_train, y_train)\n"
      ],
      "metadata": {
        "id": "he_zLXm4gd1c"
      },
      "execution_count": null,
      "outputs": []
    },
    {
      "cell_type": "code",
      "source": [
        "y_pred = knn.predict(X_test)\n",
        "accuracy = accuracy_score(y_test, y_pred)\n",
        "print(accuracy)\n"
      ],
      "metadata": {
        "id": "pyL27rUbggA1"
      },
      "execution_count": null,
      "outputs": []
    },
    {
      "cell_type": "code",
      "source": [
        "cm = confusion_matrix(y_test, y_pred)\n",
        "disp = ConfusionMatrixDisplay(confusion_matrix=cm, display_labels=iris.target_names)\n",
        "disp.plot(cmap=plt.cm.Blues)\n",
        "plt.title(\"Confusion Matrix\")\n",
        "plt.show()\n"
      ],
      "metadata": {
        "id": "91vxK7K0gifY"
      },
      "execution_count": null,
      "outputs": []
    },
    {
      "cell_type": "code",
      "source": [
        "accuracies = []\n",
        "for k in range(1, 11):\n",
        "    knn_k = KNeighborsClassifier(n_neighbors=k)\n",
        "    knn_k.fit(X_train, y_train)\n",
        "    y_k_pred = knn_k.predict(X_test)\n",
        "    acc = accuracy_score(y_test, y_k_pred)\n",
        "    accuracies.append((k, acc))\n",
        "\n",
        "k_vals, acc_vals = zip(*accuracies)\n",
        "plt.plot(k_vals, acc_vals, marker='o')\n",
        "plt.xlabel(\"k\")\n",
        "plt.ylabel(\"Accuracy\")\n",
        "plt.title(\"Accuracy vs k\")\n",
        "plt.grid(True)\n",
        "plt.show()\n"
      ],
      "metadata": {
        "id": "Gwnbcovggkl7"
      },
      "execution_count": null,
      "outputs": []
    },
    {
      "cell_type": "code",
      "source": [
        "sepal_length = float(input(\"Sepal length (cm): \"))\n",
        "sepal_width = float(input(\"Sepal width (cm): \"))\n",
        "petal_length = float(input(\"Petal length (cm): \"))\n",
        "petal_width = float(input(\"Petal width (cm): \"))\n",
        "\n",
        "user_data = pd.DataFrame([[sepal_length, sepal_width, petal_length, petal_width]],\n",
        "                         columns=iris.feature_names)\n",
        "\n",
        "predicted_class = knn.predict(user_data)[0]\n",
        "predicted_species = iris.target_names[predicted_class]\n",
        "\n",
        "print(predicted_species)\n"
      ],
      "metadata": {
        "id": "QUBmt3DSgmjF"
      },
      "execution_count": null,
      "outputs": []
    },
    {
      "cell_type": "code",
      "source": [],
      "metadata": {
        "id": "yPHy1gC_grHT"
      },
      "execution_count": null,
      "outputs": []
    }
  ]
}